{
 "cells": [
  {
   "cell_type": "code",
   "execution_count": 1,
   "metadata": {},
   "outputs": [],
   "source": [
    "from keras.layers import Dense, Flatten\n",
    "from keras.models import Model, load_model\n",
    "from keras.applications.vgg16 import VGG16\n",
    "from keras.preprocessing import image\n",
    "from keras.preprocessing.image import ImageDataGenerator\n",
    "from keras.models import Sequential\n",
    "from sklearn.model_selection import train_test_split\n",
    "from sklearn.metrics import classification_report, confusion_matrix\n",
    "from glob import glob\n",
    "import tensorflow as tf\n",
    "import numpy as np\n",
    "import pandas as pd\n",
    "import seaborn as sns\n",
    "import matplotlib.pyplot as plt\n",
    "import os\n",
    "import warnings\n",
    "warnings.filterwarnings(\"ignore\")"
   ]
  },
  {
   "cell_type": "markdown",
   "metadata": {},
   "source": [
    "## Import Dataset"
   ]
  },
  {
   "cell_type": "code",
   "execution_count": 2,
   "metadata": {},
   "outputs": [
    {
     "name": "stdout",
     "output_type": "stream",
     "text": [
      "Total class: 3\n"
     ]
    },
    {
     "data": {
      "text/plain": [
       "['128_gray_bopeng', '128_gray_jerawat', '128_gray_komedo']"
      ]
     },
     "execution_count": 2,
     "metadata": {},
     "output_type": "execute_result"
    }
   ],
   "source": [
    "base_dir = \"dataset/grayscale/128/\"\n",
    "folders = glob(base_dir + \"/*\")\n",
    "\n",
    "print(\"Total class:\", len(folders))\n",
    "os.listdir(base_dir)"
   ]
  },
  {
   "cell_type": "code",
   "execution_count": 3,
   "metadata": {},
   "outputs": [],
   "source": [
    "file_name = []\n",
    "tag = []\n",
    "full_path = []\n",
    "\n",
    "for path, subdirs, files in os.walk(base_dir):\n",
    "    for name in files:\n",
    "        full_path.append(os.path.join(path, name))\n",
    "        tag.append(path.split(\"\\\\\")[-1])\n",
    "        file_name.append(name)"
   ]
  },
  {
   "cell_type": "code",
   "execution_count": 4,
   "metadata": {},
   "outputs": [
    {
     "data": {
      "text/plain": [
       "tag\n",
       "dataset/grayscale/128/128_gray_bopeng     750\n",
       "dataset/grayscale/128/128_gray_jerawat    750\n",
       "dataset/grayscale/128/128_gray_komedo     750\n",
       "dtype: int64"
      ]
     },
     "execution_count": 4,
     "metadata": {},
     "output_type": "execute_result"
    }
   ],
   "source": [
    "df = pd.DataFrame({\"path\": full_path, \"file_name\": file_name, \"tag\": tag})\n",
    "df.groupby([\"tag\"]).size()"
   ]
  },
  {
   "cell_type": "code",
   "execution_count": 5,
   "metadata": {},
   "outputs": [
    {
     "data": {
      "text/html": [
       "<div>\n",
       "<style scoped>\n",
       "    .dataframe tbody tr th:only-of-type {\n",
       "        vertical-align: middle;\n",
       "    }\n",
       "\n",
       "    .dataframe tbody tr th {\n",
       "        vertical-align: top;\n",
       "    }\n",
       "\n",
       "    .dataframe thead th {\n",
       "        text-align: right;\n",
       "    }\n",
       "</style>\n",
       "<table border=\"1\" class=\"dataframe\">\n",
       "  <thead>\n",
       "    <tr style=\"text-align: right;\">\n",
       "      <th></th>\n",
       "      <th>path</th>\n",
       "      <th>file_name</th>\n",
       "      <th>tag</th>\n",
       "    </tr>\n",
       "  </thead>\n",
       "  <tbody>\n",
       "    <tr>\n",
       "      <th>0</th>\n",
       "      <td>dataset/grayscale/128/128_gray_bopeng\\b_gray_1...</td>\n",
       "      <td>b_gray_128_0.jpg</td>\n",
       "      <td>dataset/grayscale/128/128_gray_bopeng</td>\n",
       "    </tr>\n",
       "    <tr>\n",
       "      <th>1</th>\n",
       "      <td>dataset/grayscale/128/128_gray_bopeng\\b_gray_1...</td>\n",
       "      <td>b_gray_128_1.jpg</td>\n",
       "      <td>dataset/grayscale/128/128_gray_bopeng</td>\n",
       "    </tr>\n",
       "    <tr>\n",
       "      <th>2</th>\n",
       "      <td>dataset/grayscale/128/128_gray_bopeng\\b_gray_1...</td>\n",
       "      <td>b_gray_128_10.jpg</td>\n",
       "      <td>dataset/grayscale/128/128_gray_bopeng</td>\n",
       "    </tr>\n",
       "    <tr>\n",
       "      <th>3</th>\n",
       "      <td>dataset/grayscale/128/128_gray_bopeng\\b_gray_1...</td>\n",
       "      <td>b_gray_128_100.jpg</td>\n",
       "      <td>dataset/grayscale/128/128_gray_bopeng</td>\n",
       "    </tr>\n",
       "    <tr>\n",
       "      <th>4</th>\n",
       "      <td>dataset/grayscale/128/128_gray_bopeng\\b_gray_1...</td>\n",
       "      <td>b_gray_128_101.jpg</td>\n",
       "      <td>dataset/grayscale/128/128_gray_bopeng</td>\n",
       "    </tr>\n",
       "    <tr>\n",
       "      <th>...</th>\n",
       "      <td>...</td>\n",
       "      <td>...</td>\n",
       "      <td>...</td>\n",
       "    </tr>\n",
       "    <tr>\n",
       "      <th>2245</th>\n",
       "      <td>dataset/grayscale/128/128_gray_komedo\\k_gray_1...</td>\n",
       "      <td>k_gray_128_95.jpg</td>\n",
       "      <td>dataset/grayscale/128/128_gray_komedo</td>\n",
       "    </tr>\n",
       "    <tr>\n",
       "      <th>2246</th>\n",
       "      <td>dataset/grayscale/128/128_gray_komedo\\k_gray_1...</td>\n",
       "      <td>k_gray_128_96.jpg</td>\n",
       "      <td>dataset/grayscale/128/128_gray_komedo</td>\n",
       "    </tr>\n",
       "    <tr>\n",
       "      <th>2247</th>\n",
       "      <td>dataset/grayscale/128/128_gray_komedo\\k_gray_1...</td>\n",
       "      <td>k_gray_128_97.jpg</td>\n",
       "      <td>dataset/grayscale/128/128_gray_komedo</td>\n",
       "    </tr>\n",
       "    <tr>\n",
       "      <th>2248</th>\n",
       "      <td>dataset/grayscale/128/128_gray_komedo\\k_gray_1...</td>\n",
       "      <td>k_gray_128_98.jpg</td>\n",
       "      <td>dataset/grayscale/128/128_gray_komedo</td>\n",
       "    </tr>\n",
       "    <tr>\n",
       "      <th>2249</th>\n",
       "      <td>dataset/grayscale/128/128_gray_komedo\\k_gray_1...</td>\n",
       "      <td>k_gray_128_99.jpg</td>\n",
       "      <td>dataset/grayscale/128/128_gray_komedo</td>\n",
       "    </tr>\n",
       "  </tbody>\n",
       "</table>\n",
       "<p>2250 rows × 3 columns</p>\n",
       "</div>"
      ],
      "text/plain": [
       "                                                   path           file_name  \\\n",
       "0     dataset/grayscale/128/128_gray_bopeng\\b_gray_1...    b_gray_128_0.jpg   \n",
       "1     dataset/grayscale/128/128_gray_bopeng\\b_gray_1...    b_gray_128_1.jpg   \n",
       "2     dataset/grayscale/128/128_gray_bopeng\\b_gray_1...   b_gray_128_10.jpg   \n",
       "3     dataset/grayscale/128/128_gray_bopeng\\b_gray_1...  b_gray_128_100.jpg   \n",
       "4     dataset/grayscale/128/128_gray_bopeng\\b_gray_1...  b_gray_128_101.jpg   \n",
       "...                                                 ...                 ...   \n",
       "2245  dataset/grayscale/128/128_gray_komedo\\k_gray_1...   k_gray_128_95.jpg   \n",
       "2246  dataset/grayscale/128/128_gray_komedo\\k_gray_1...   k_gray_128_96.jpg   \n",
       "2247  dataset/grayscale/128/128_gray_komedo\\k_gray_1...   k_gray_128_97.jpg   \n",
       "2248  dataset/grayscale/128/128_gray_komedo\\k_gray_1...   k_gray_128_98.jpg   \n",
       "2249  dataset/grayscale/128/128_gray_komedo\\k_gray_1...   k_gray_128_99.jpg   \n",
       "\n",
       "                                        tag  \n",
       "0     dataset/grayscale/128/128_gray_bopeng  \n",
       "1     dataset/grayscale/128/128_gray_bopeng  \n",
       "2     dataset/grayscale/128/128_gray_bopeng  \n",
       "3     dataset/grayscale/128/128_gray_bopeng  \n",
       "4     dataset/grayscale/128/128_gray_bopeng  \n",
       "...                                     ...  \n",
       "2245  dataset/grayscale/128/128_gray_komedo  \n",
       "2246  dataset/grayscale/128/128_gray_komedo  \n",
       "2247  dataset/grayscale/128/128_gray_komedo  \n",
       "2248  dataset/grayscale/128/128_gray_komedo  \n",
       "2249  dataset/grayscale/128/128_gray_komedo  \n",
       "\n",
       "[2250 rows x 3 columns]"
      ]
     },
     "execution_count": 5,
     "metadata": {},
     "output_type": "execute_result"
    }
   ],
   "source": [
    "df"
   ]
  },
  {
   "cell_type": "code",
   "execution_count": 6,
   "metadata": {},
   "outputs": [],
   "source": [
    "X = df[\"path\"]\n",
    "y = df[\"tag\"]\n",
    "\n",
    "X_train, X_val, y_train, y_val = train_test_split(X, y, test_size=0.2, random_state=0, stratify=y)"
   ]
  },
  {
   "cell_type": "code",
   "execution_count": 7,
   "metadata": {},
   "outputs": [],
   "source": [
    "data_train = pd.DataFrame({\"path\": X_train, \"tag\": y_train, \"set\": \"train\"})\n",
    "data_val = pd.DataFrame({\"path\": X_val, \"tag\": y_val, \"set\": \"valid\"} )"
   ]
  },
  {
   "cell_type": "code",
   "execution_count": 8,
   "metadata": {},
   "outputs": [
    {
     "name": "stdout",
     "output_type": "stream",
     "text": [
      "train_size 1800\n",
      "valid_size 450\n"
     ]
    }
   ],
   "source": [
    "print(\"train_size\", len(data_train))\n",
    "print(\"valid_size\", len(data_val))"
   ]
  },
  {
   "cell_type": "code",
   "execution_count": 9,
   "metadata": {},
   "outputs": [
    {
     "name": "stdout",
     "output_type": "stream",
     "text": [
      "set    tag                                   \n",
      "train  dataset/grayscale/128/128_gray_bopeng     600\n",
      "       dataset/grayscale/128/128_gray_jerawat    600\n",
      "       dataset/grayscale/128/128_gray_komedo     600\n",
      "valid  dataset/grayscale/128/128_gray_bopeng     150\n",
      "       dataset/grayscale/128/128_gray_jerawat    150\n",
      "       dataset/grayscale/128/128_gray_komedo     150\n",
      "dtype: int64 \n",
      "\n"
     ]
    },
    {
     "data": {
      "text/html": [
       "<div>\n",
       "<style scoped>\n",
       "    .dataframe tbody tr th:only-of-type {\n",
       "        vertical-align: middle;\n",
       "    }\n",
       "\n",
       "    .dataframe tbody tr th {\n",
       "        vertical-align: top;\n",
       "    }\n",
       "\n",
       "    .dataframe thead th {\n",
       "        text-align: right;\n",
       "    }\n",
       "</style>\n",
       "<table border=\"1\" class=\"dataframe\">\n",
       "  <thead>\n",
       "    <tr style=\"text-align: right;\">\n",
       "      <th></th>\n",
       "      <th>path</th>\n",
       "      <th>tag</th>\n",
       "      <th>set</th>\n",
       "    </tr>\n",
       "  </thead>\n",
       "  <tbody>\n",
       "    <tr>\n",
       "      <th>0</th>\n",
       "      <td>dataset/grayscale/128/128_gray_jerawat\\j_gray_...</td>\n",
       "      <td>dataset/grayscale/128/128_gray_jerawat</td>\n",
       "      <td>train</td>\n",
       "    </tr>\n",
       "    <tr>\n",
       "      <th>1</th>\n",
       "      <td>dataset/grayscale/128/128_gray_komedo\\k_gray_1...</td>\n",
       "      <td>dataset/grayscale/128/128_gray_komedo</td>\n",
       "      <td>train</td>\n",
       "    </tr>\n",
       "    <tr>\n",
       "      <th>2</th>\n",
       "      <td>dataset/grayscale/128/128_gray_komedo\\k_gray_1...</td>\n",
       "      <td>dataset/grayscale/128/128_gray_komedo</td>\n",
       "      <td>train</td>\n",
       "    </tr>\n",
       "    <tr>\n",
       "      <th>3</th>\n",
       "      <td>dataset/grayscale/128/128_gray_jerawat\\j_gray_...</td>\n",
       "      <td>dataset/grayscale/128/128_gray_jerawat</td>\n",
       "      <td>train</td>\n",
       "    </tr>\n",
       "    <tr>\n",
       "      <th>4</th>\n",
       "      <td>dataset/grayscale/128/128_gray_bopeng\\b_gray_1...</td>\n",
       "      <td>dataset/grayscale/128/128_gray_bopeng</td>\n",
       "      <td>train</td>\n",
       "    </tr>\n",
       "    <tr>\n",
       "      <th>...</th>\n",
       "      <td>...</td>\n",
       "      <td>...</td>\n",
       "      <td>...</td>\n",
       "    </tr>\n",
       "    <tr>\n",
       "      <th>2245</th>\n",
       "      <td>dataset/grayscale/128/128_gray_komedo\\k_gray_1...</td>\n",
       "      <td>dataset/grayscale/128/128_gray_komedo</td>\n",
       "      <td>valid</td>\n",
       "    </tr>\n",
       "    <tr>\n",
       "      <th>2246</th>\n",
       "      <td>dataset/grayscale/128/128_gray_jerawat\\j_gray_...</td>\n",
       "      <td>dataset/grayscale/128/128_gray_jerawat</td>\n",
       "      <td>valid</td>\n",
       "    </tr>\n",
       "    <tr>\n",
       "      <th>2247</th>\n",
       "      <td>dataset/grayscale/128/128_gray_komedo\\k_gray_1...</td>\n",
       "      <td>dataset/grayscale/128/128_gray_komedo</td>\n",
       "      <td>valid</td>\n",
       "    </tr>\n",
       "    <tr>\n",
       "      <th>2248</th>\n",
       "      <td>dataset/grayscale/128/128_gray_bopeng\\b_gray_1...</td>\n",
       "      <td>dataset/grayscale/128/128_gray_bopeng</td>\n",
       "      <td>valid</td>\n",
       "    </tr>\n",
       "    <tr>\n",
       "      <th>2249</th>\n",
       "      <td>dataset/grayscale/128/128_gray_komedo\\k_gray_1...</td>\n",
       "      <td>dataset/grayscale/128/128_gray_komedo</td>\n",
       "      <td>valid</td>\n",
       "    </tr>\n",
       "  </tbody>\n",
       "</table>\n",
       "<p>2250 rows × 3 columns</p>\n",
       "</div>"
      ],
      "text/plain": [
       "                                                   path  \\\n",
       "0     dataset/grayscale/128/128_gray_jerawat\\j_gray_...   \n",
       "1     dataset/grayscale/128/128_gray_komedo\\k_gray_1...   \n",
       "2     dataset/grayscale/128/128_gray_komedo\\k_gray_1...   \n",
       "3     dataset/grayscale/128/128_gray_jerawat\\j_gray_...   \n",
       "4     dataset/grayscale/128/128_gray_bopeng\\b_gray_1...   \n",
       "...                                                 ...   \n",
       "2245  dataset/grayscale/128/128_gray_komedo\\k_gray_1...   \n",
       "2246  dataset/grayscale/128/128_gray_jerawat\\j_gray_...   \n",
       "2247  dataset/grayscale/128/128_gray_komedo\\k_gray_1...   \n",
       "2248  dataset/grayscale/128/128_gray_bopeng\\b_gray_1...   \n",
       "2249  dataset/grayscale/128/128_gray_komedo\\k_gray_1...   \n",
       "\n",
       "                                         tag    set  \n",
       "0     dataset/grayscale/128/128_gray_jerawat  train  \n",
       "1      dataset/grayscale/128/128_gray_komedo  train  \n",
       "2      dataset/grayscale/128/128_gray_komedo  train  \n",
       "3     dataset/grayscale/128/128_gray_jerawat  train  \n",
       "4      dataset/grayscale/128/128_gray_bopeng  train  \n",
       "...                                      ...    ...  \n",
       "2245   dataset/grayscale/128/128_gray_komedo  valid  \n",
       "2246  dataset/grayscale/128/128_gray_jerawat  valid  \n",
       "2247   dataset/grayscale/128/128_gray_komedo  valid  \n",
       "2248   dataset/grayscale/128/128_gray_bopeng  valid  \n",
       "2249   dataset/grayscale/128/128_gray_komedo  valid  \n",
       "\n",
       "[2250 rows x 3 columns]"
      ]
     },
     "execution_count": 9,
     "metadata": {},
     "output_type": "execute_result"
    }
   ],
   "source": [
    "df_all = data_train.append([data_val]).reset_index(drop=1)\n",
    "print(df_all.groupby([\"set\", \"tag\"]).size(), \"\\n\")\n",
    "\n",
    "# Cek sample data\n",
    "df_all"
   ]
  },
  {
   "cell_type": "code",
   "execution_count": 10,
   "metadata": {},
   "outputs": [],
   "source": [
    "train_datagen = ImageDataGenerator(rescale=1.0/255)\n",
    "valid_datagen = ImageDataGenerator(rescale=1.0/255)"
   ]
  },
  {
   "cell_type": "code",
   "execution_count": 11,
   "metadata": {},
   "outputs": [
    {
     "name": "stdout",
     "output_type": "stream",
     "text": [
      "Found 1800 validated image filenames belonging to 3 classes.\n",
      "Found 450 validated image filenames belonging to 3 classes.\n"
     ]
    }
   ],
   "source": [
    "train_generator = train_datagen.flow_from_dataframe(\n",
    "        data_train,\n",
    "        x_col=\"path\",\n",
    "        y_col=\"tag\",\n",
    "        target_size=(128, 128),\n",
    "        class_mode=\"categorical\"\n",
    ")\n",
    "\n",
    "valid_generator = valid_datagen.flow_from_dataframe(\n",
    "        data_val,\n",
    "        x_col=\"path\",\n",
    "        y_col=\"tag\",\n",
    "        target_size=(128, 128),\n",
    "        class_mode=\"categorical\"\n",
    ")"
   ]
  },
  {
   "cell_type": "markdown",
   "metadata": {},
   "source": [
    "## Build Model"
   ]
  },
  {
   "cell_type": "code",
   "execution_count": 12,
   "metadata": {},
   "outputs": [],
   "source": [
    "IMAGE_SIZE = [128, 128]\n",
    "vgg = VGG16(input_shape=IMAGE_SIZE + [3], weights=\"imagenet\", include_top=False)"
   ]
  },
  {
   "cell_type": "code",
   "execution_count": 13,
   "metadata": {},
   "outputs": [],
   "source": [
    "for layers in vgg.layers:\n",
    "    layers.trainable = False"
   ]
  },
  {
   "cell_type": "code",
   "execution_count": 14,
   "metadata": {},
   "outputs": [],
   "source": [
    "x = Flatten()(vgg.output)\n",
    "prediction = Dense(len(folders), activation=\"softmax\")(x)"
   ]
  },
  {
   "cell_type": "code",
   "execution_count": 15,
   "metadata": {},
   "outputs": [],
   "source": [
    "model = Model(inputs=vgg.input, outputs=prediction)"
   ]
  },
  {
   "cell_type": "code",
   "execution_count": 16,
   "metadata": {},
   "outputs": [
    {
     "name": "stdout",
     "output_type": "stream",
     "text": [
      "Model: \"model\"\n",
      "_________________________________________________________________\n",
      " Layer (type)                Output Shape              Param #   \n",
      "=================================================================\n",
      " input_1 (InputLayer)        [(None, 128, 128, 3)]     0         \n",
      "                                                                 \n",
      " block1_conv1 (Conv2D)       (None, 128, 128, 64)      1792      \n",
      "                                                                 \n",
      " block1_conv2 (Conv2D)       (None, 128, 128, 64)      36928     \n",
      "                                                                 \n",
      " block1_pool (MaxPooling2D)  (None, 64, 64, 64)        0         \n",
      "                                                                 \n",
      " block2_conv1 (Conv2D)       (None, 64, 64, 128)       73856     \n",
      "                                                                 \n",
      " block2_conv2 (Conv2D)       (None, 64, 64, 128)       147584    \n",
      "                                                                 \n",
      " block2_pool (MaxPooling2D)  (None, 32, 32, 128)       0         \n",
      "                                                                 \n",
      " block3_conv1 (Conv2D)       (None, 32, 32, 256)       295168    \n",
      "                                                                 \n",
      " block3_conv2 (Conv2D)       (None, 32, 32, 256)       590080    \n",
      "                                                                 \n",
      " block3_conv3 (Conv2D)       (None, 32, 32, 256)       590080    \n",
      "                                                                 \n",
      " block3_pool (MaxPooling2D)  (None, 16, 16, 256)       0         \n",
      "                                                                 \n",
      " block4_conv1 (Conv2D)       (None, 16, 16, 512)       1180160   \n",
      "                                                                 \n",
      " block4_conv2 (Conv2D)       (None, 16, 16, 512)       2359808   \n",
      "                                                                 \n",
      " block4_conv3 (Conv2D)       (None, 16, 16, 512)       2359808   \n",
      "                                                                 \n",
      " block4_pool (MaxPooling2D)  (None, 8, 8, 512)         0         \n",
      "                                                                 \n",
      " block5_conv1 (Conv2D)       (None, 8, 8, 512)         2359808   \n",
      "                                                                 \n",
      " block5_conv2 (Conv2D)       (None, 8, 8, 512)         2359808   \n",
      "                                                                 \n",
      " block5_conv3 (Conv2D)       (None, 8, 8, 512)         2359808   \n",
      "                                                                 \n",
      " block5_pool (MaxPooling2D)  (None, 4, 4, 512)         0         \n",
      "                                                                 \n",
      " flatten (Flatten)           (None, 8192)              0         \n",
      "                                                                 \n",
      " dense (Dense)               (None, 3)                 24579     \n",
      "                                                                 \n",
      "=================================================================\n",
      "Total params: 14,739,267\n",
      "Trainable params: 24,579\n",
      "Non-trainable params: 14,714,688\n",
      "_________________________________________________________________\n"
     ]
    }
   ],
   "source": [
    "model.summary()"
   ]
  },
  {
   "cell_type": "code",
   "execution_count": 17,
   "metadata": {},
   "outputs": [],
   "source": [
    "model.compile(\n",
    "    optimizer=\"adam\",\n",
    "    loss=\"categorical_crossentropy\",\n",
    "    metrics=[\"accuracy\"]\n",
    ")"
   ]
  },
  {
   "cell_type": "code",
   "execution_count": 18,
   "metadata": {},
   "outputs": [],
   "source": [
    "my_callbacks = tf.keras.callbacks.EarlyStopping(\n",
    "    monitor=\"accuracy\", \n",
    "    min_delta=0.001, \n",
    "    patience=5,\n",
    "    verbose=0,\n",
    "    mode=\"max\",\n",
    "    restore_best_weights=True\n",
    ")"
   ]
  },
  {
   "cell_type": "code",
   "execution_count": 19,
   "metadata": {},
   "outputs": [
    {
     "name": "stdout",
     "output_type": "stream",
     "text": [
      "Epoch 1/50\n",
      "57/57 [==============================] - 229s 4s/step - loss: 0.4494 - accuracy: 0.8361 - val_loss: 0.3233 - val_accuracy: 0.8622\n",
      "Epoch 2/50\n",
      "57/57 [==============================] - 224s 4s/step - loss: 0.2073 - accuracy: 0.9317 - val_loss: 0.2142 - val_accuracy: 0.9311\n",
      "Epoch 3/50\n",
      "57/57 [==============================] - 218s 4s/step - loss: 0.1569 - accuracy: 0.9511 - val_loss: 0.2213 - val_accuracy: 0.9178\n",
      "Epoch 4/50\n",
      "57/57 [==============================] - 216s 4s/step - loss: 0.1288 - accuracy: 0.9617 - val_loss: 0.1656 - val_accuracy: 0.9422\n",
      "Epoch 5/50\n",
      "57/57 [==============================] - 216s 4s/step - loss: 0.1066 - accuracy: 0.9694 - val_loss: 0.1532 - val_accuracy: 0.9444\n",
      "Epoch 6/50\n",
      "57/57 [==============================] - 176s 3s/step - loss: 0.0957 - accuracy: 0.9761 - val_loss: 0.1455 - val_accuracy: 0.9511\n",
      "Epoch 7/50\n",
      "57/57 [==============================] - 153s 3s/step - loss: 0.0834 - accuracy: 0.9778 - val_loss: 0.1391 - val_accuracy: 0.9556\n",
      "Epoch 8/50\n",
      "57/57 [==============================] - 105s 2s/step - loss: 0.0786 - accuracy: 0.9817 - val_loss: 0.1319 - val_accuracy: 0.9533\n",
      "Epoch 9/50\n",
      "57/57 [==============================] - 109s 2s/step - loss: 0.0699 - accuracy: 0.9861 - val_loss: 0.1264 - val_accuracy: 0.9556\n",
      "Epoch 10/50\n",
      "57/57 [==============================] - 113s 2s/step - loss: 0.0631 - accuracy: 0.9839 - val_loss: 0.1155 - val_accuracy: 0.9578\n",
      "Epoch 11/50\n",
      "57/57 [==============================] - 151s 3s/step - loss: 0.0564 - accuracy: 0.9872 - val_loss: 0.1139 - val_accuracy: 0.9533\n",
      "Epoch 12/50\n",
      "57/57 [==============================] - 216s 4s/step - loss: 0.0579 - accuracy: 0.9839 - val_loss: 0.1116 - val_accuracy: 0.9600\n",
      "Epoch 13/50\n",
      "57/57 [==============================] - 216s 4s/step - loss: 0.0462 - accuracy: 0.9928 - val_loss: 0.1120 - val_accuracy: 0.9556\n",
      "Epoch 14/50\n",
      "57/57 [==============================] - 220s 4s/step - loss: 0.0455 - accuracy: 0.9917 - val_loss: 0.1028 - val_accuracy: 0.9600\n",
      "Epoch 15/50\n",
      "57/57 [==============================] - 217s 4s/step - loss: 0.0409 - accuracy: 0.9917 - val_loss: 0.1030 - val_accuracy: 0.9600\n",
      "Epoch 16/50\n",
      "57/57 [==============================] - 215s 4s/step - loss: 0.0376 - accuracy: 0.9933 - val_loss: 0.1008 - val_accuracy: 0.9600\n",
      "Epoch 17/50\n",
      "57/57 [==============================] - 184s 3s/step - loss: 0.0365 - accuracy: 0.9922 - val_loss: 0.0947 - val_accuracy: 0.9644\n",
      "Epoch 18/50\n",
      "57/57 [==============================] - 223s 4s/step - loss: 0.0343 - accuracy: 0.9950 - val_loss: 0.0952 - val_accuracy: 0.9644\n",
      "Epoch 19/50\n",
      "57/57 [==============================] - 221s 4s/step - loss: 0.0304 - accuracy: 0.9950 - val_loss: 0.0991 - val_accuracy: 0.9644\n",
      "Epoch 20/50\n",
      "57/57 [==============================] - 218s 4s/step - loss: 0.0291 - accuracy: 0.9956 - val_loss: 0.0918 - val_accuracy: 0.9667\n",
      "Epoch 21/50\n",
      "57/57 [==============================] - 219s 4s/step - loss: 0.0275 - accuracy: 0.9956 - val_loss: 0.0996 - val_accuracy: 0.9622\n",
      "Epoch 22/50\n",
      "57/57 [==============================] - 220s 4s/step - loss: 0.0257 - accuracy: 0.9989 - val_loss: 0.0977 - val_accuracy: 0.9689\n",
      "Epoch 23/50\n",
      "57/57 [==============================] - 217s 4s/step - loss: 0.0255 - accuracy: 0.9956 - val_loss: 0.0894 - val_accuracy: 0.9689\n",
      "Epoch 24/50\n",
      "57/57 [==============================] - 217s 4s/step - loss: 0.0228 - accuracy: 0.9978 - val_loss: 0.0889 - val_accuracy: 0.9667\n",
      "Epoch 25/50\n",
      "57/57 [==============================] - 219s 4s/step - loss: 0.0213 - accuracy: 0.9983 - val_loss: 0.1015 - val_accuracy: 0.9622\n",
      "Epoch 26/50\n",
      "57/57 [==============================] - 215s 4s/step - loss: 0.0211 - accuracy: 0.9972 - val_loss: 0.0867 - val_accuracy: 0.9644\n",
      "Epoch 27/50\n",
      "57/57 [==============================] - 220s 4s/step - loss: 0.0199 - accuracy: 0.9989 - val_loss: 0.0993 - val_accuracy: 0.9622\n"
     ]
    }
   ],
   "source": [
    "history = model.fit(\n",
    "    train_generator,\n",
    "    steps_per_epoch=len(train_generator),\n",
    "    epochs=50,\n",
    "    validation_data=valid_generator,\n",
    "    validation_steps=len(valid_generator),\n",
    "    callbacks=my_callbacks\n",
    ")"
   ]
  },
  {
   "cell_type": "markdown",
   "metadata": {},
   "source": [
    "## Model Accuracy"
   ]
  },
  {
   "cell_type": "code",
   "execution_count": 20,
   "metadata": {},
   "outputs": [
    {
     "name": "stdout",
     "output_type": "stream",
     "text": [
      "15/15 [==============================] - 44s 3s/step - loss: 0.0977 - accuracy: 0.9689\n",
      "\n",
      "accuracy: 0.9688888788223267   loss:  0.09770847856998444\n"
     ]
    }
   ],
   "source": [
    "test_loss, test_acc = model.evaluate(valid_generator)\n",
    "print(\"\\naccuracy:\", test_acc, \"  loss: \", test_loss)\n"
   ]
  },
  {
   "cell_type": "code",
   "execution_count": 21,
   "metadata": {},
   "outputs": [
    {
     "data": {
      "image/png": "[encoded data removed]",
      "text/plain": [
       "<Figure size 640x480 with 1 Axes>"
      ]
     },
     "metadata": {},
     "output_type": "display_data"
    }
   ],
   "source": [
    "plt.plot(history.history[\"loss\"])\n",
    "plt.plot(history.history[\"val_loss\"])\n",
    "plt.title(\"Model loss\")\n",
    "plt.ylabel(\"Loss\")\n",
    "plt.xlabel(\"Epoch\")\n",
    "plt.legend([\"Train\", \"Val\"], loc=\"upper right\")\n",
    "plt.show()"
   ]
  },
  {
   "cell_type": "code",
   "execution_count": 22,
   "metadata": {},
   "outputs": [
    {
     "data": {
      "image/png": "[encoded data removed]",
      "text/plain": [
       "<Figure size 640x480 with 1 Axes>"
      ]
     },
     "metadata": {},
     "output_type": "display_data"
    }
   ],
   "source": [
    "plt.plot(history.history[\"accuracy\"])\n",
    "plt.plot(history.history[\"val_accuracy\"])\n",
    "plt.title(\"Model accuracy\")\n",
    "plt.ylabel(\"Accuracy\")\n",
    "plt.xlabel(\"Epoch\")\n",
    "plt.legend([\"Train\", \"Val\"], loc=\"lower right\")\n",
    "plt.show()"
   ]
  },
  {
   "cell_type": "markdown",
   "metadata": {},
   "source": [
    "## Save Model"
   ]
  },
  {
   "cell_type": "code",
   "execution_count": 23,
   "metadata": {},
   "outputs": [
    {
     "name": "stdout",
     "output_type": "stream",
     "text": [
      "Saving Model At model\\model_128\\vgg16-128-grayscale.h5...\n"
     ]
    }
   ],
   "source": [
    "MODEL_BASE_PATH = \"model\"\n",
    "PROJECT_NAME = \"model_128\"\n",
    "SAVE_MODEL_NAME = \"vgg16-128-grayscale.h5\"\n",
    "save_model_path = os.path.join(MODEL_BASE_PATH, PROJECT_NAME, SAVE_MODEL_NAME)\n",
    "\n",
    "if os.path.exists(os.path.join(MODEL_BASE_PATH, PROJECT_NAME)) == False:\n",
    "    os.makedirs(os.path.join(MODEL_BASE_PATH, PROJECT_NAME))\n",
    "\n",
    "print(\"Saving Model At {}...\".format(save_model_path))\n",
    "model.save(save_model_path)"
   ]
  },
  {
   "cell_type": "markdown",
   "metadata": {},
   "source": [
    "## Model Evaluate"
   ]
  },
  {
   "cell_type": "code",
   "execution_count": 2,
   "metadata": {},
   "outputs": [],
   "source": [
    "model_load = load_model('model/model_128/vgg16-128-grayscale.h5')"
   ]
  },
  {
   "cell_type": "code",
   "execution_count": 3,
   "metadata": {},
   "outputs": [
    {
     "name": "stdout",
     "output_type": "stream",
     "text": [
      "Found 60 images belonging to 3 classes.\n"
     ]
    }
   ],
   "source": [
    "image_generator = ImageDataGenerator(rescale=1/255)\n",
    "test_data = 'testing'\n",
    "test_image_data = image_generator.flow_from_directory(test_data, target_size=(128, 128), batch_size=60)"
   ]
  },
  {
   "cell_type": "code",
   "execution_count": 4,
   "metadata": {},
   "outputs": [
    {
     "name": "stdout",
     "output_type": "stream",
     "text": [
      "Image batch shape:  (60, 128, 128, 3)\n",
      "Label batch shape:  (60, 3)\n"
     ]
    }
   ],
   "source": [
    "for image_batch, label_batch in test_image_data:\n",
    "    print(\"Image batch shape: \", image_batch.shape)\n",
    "    print(\"Label batch shape: \", label_batch.shape)\n",
    "    break\n"
   ]
  },
  {
   "cell_type": "code",
   "execution_count": 5,
   "metadata": {},
   "outputs": [
    {
     "name": "stdout",
     "output_type": "stream",
     "text": [
      "2/2 [==============================] - 3s 1s/step\n"
     ]
    }
   ],
   "source": [
    "predicted_batch = model_load.predict(image_batch)\n",
    "predicted_id = np.argmax(predicted_batch, axis=-1)\n",
    "label_id = np.argmax(label_batch, axis=-1)"
   ]
  },
  {
   "cell_type": "code",
   "execution_count": 6,
   "metadata": {},
   "outputs": [
    {
     "data": {
      "image/png": "[encoded data removed]",
      "text/plain": [
       "<Figure size 500x400 with 2 Axes>"
      ]
     },
     "metadata": {},
     "output_type": "display_data"
    }
   ],
   "source": [
    "cf_matrix = confusion_matrix(label_id, predicted_id)\n",
    "cm_df = pd.DataFrame(\n",
    "    cf_matrix,\n",
    "    index=[\"Bopeng\", \"Jerawat\", \"Komedo\"],\n",
    "    columns=[\"Bopeng\", \"Jerawat\", \"Komedo\"]\n",
    ")\n",
    "figure = plt.figure(figsize=(5, 4))\n",
    "sns.heatmap(cm_df, annot=True, cmap='Blues')\n",
    "plt.tight_layout()\n",
    "plt.ylabel('True label')\n",
    "plt.xlabel('Predicted label')\n",
    "plt.show()\n"
   ]
  },
  {
   "cell_type": "code",
   "execution_count": 7,
   "metadata": {},
   "outputs": [
    {
     "name": "stdout",
     "output_type": "stream",
     "text": [
      "              precision    recall  f1-score   support\n",
      "\n",
      "      bopeng       0.83      0.25      0.38        20\n",
      "     jerawat       0.70      0.80      0.74        20\n",
      "      komedo       0.55      0.85      0.67        20\n",
      "\n",
      "    accuracy                           0.63        60\n",
      "   macro avg       0.69      0.63      0.60        60\n",
      "weighted avg       0.69      0.63      0.60        60\n",
      "\n"
     ]
    }
   ],
   "source": [
    "faces = ['bopeng', 'jerawat', 'komedo']\n",
    "classification_metrics = classification_report(label_id, predicted_id, target_names=faces, zero_division=0)\n",
    "print(classification_metrics)"
   ]
  },
  {
   "cell_type": "code",
   "execution_count": null,
   "metadata": {},
   "outputs": [],
   "source": []
  }
 ],
 "metadata": {
  "kernelspec": {
   "display_name": "base",
   "language": "python",
   "name": "python3"
  },
  "language_info": {
   "codemirror_mode": {
    "name": "ipython",
    "version": 3
   },
   "file_extension": ".py",
   "mimetype": "text/x-python",
   "name": "python",
   "nbconvert_exporter": "python",
   "pygments_lexer": "ipython3",
   "version": "3.9.13"
  }
 },
 "nbformat": 4,
 "nbformat_minor": 2
}
