{
 "cells": [
  {
   "cell_type": "code",
   "execution_count": 1,
   "metadata": {},
   "outputs": [],
   "source": [
    "import numpy as np\n",
    "import pandas as pd\n",
    "import seaborn as sns\n",
    "import matplotlib.pyplot as plt\n",
    "\n",
    "from keras.models import load_model\n",
    "from keras.preprocessing.image import ImageDataGenerator\n",
    "from sklearn.metrics import classification_report, confusion_matrix"
   ]
  },
  {
   "cell_type": "code",
   "execution_count": 2,
   "metadata": {},
   "outputs": [],
   "source": [
    "model_load = load_model('model/model_224/vgg16-244-rgb.h5')"
   ]
  },
  {
   "cell_type": "code",
   "execution_count": 4,
   "metadata": {},
   "outputs": [
    {
     "name": "stdout",
     "output_type": "stream",
     "text": [
      "Found 75 images belonging to 3 classes.\n"
     ]
    }
   ],
   "source": [
    "image_generator = ImageDataGenerator(rescale=1/255)\n",
    "test_data = 'testing'\n",
    "test_image_data = image_generator.flow_from_directory(test_data, target_size=(224, 224), batch_size=75)\n",
    "# test_image_data = image_generator.flow_from_directory(test_data, target_size=(128, 128), batch_size=75)"
   ]
  },
  {
   "cell_type": "code",
   "execution_count": null,
   "metadata": {},
   "outputs": [
    {
     "name": "stdout",
     "output_type": "stream",
     "text": [
      "Image batch shape:  (75, 224, 224, 3)\n",
      "Label batch shape:  (75, 3)\n"
     ]
    }
   ],
   "source": [
    "for image_batch, label_batch in test_image_data:\n",
    "    print(\"Image batch shape: \", image_batch.shape)\n",
    "    print(\"Label batch shape: \", label_batch.shape)\n",
    "    break"
   ]
  },
  {
   "cell_type": "code",
   "execution_count": null,
   "metadata": {},
   "outputs": [
    {
     "name": "stdout",
     "output_type": "stream",
     "text": [
      "3/3 [==============================] - 11s 3s/step\n"
     ]
    }
   ],
   "source": [
    "predicted_batch = model_load.predict(image_batch)\n",
    "predicted_id = np.argmax(predicted_batch, axis=-1)\n",
    "label_id = np.argmax(label_batch, axis=-1)"
   ]
  },
  {
   "cell_type": "code",
   "execution_count": null,
   "metadata": {},
   "outputs": [
    {
     "data": {
      "image/png": "[encoded data removed]",
      "text/plain": [
       "<Figure size 500x400 with 2 Axes>"
      ]
     },
     "metadata": {},
     "output_type": "display_data"
    }
   ],
   "source": [
    "cf_matrix = confusion_matrix(label_id, predicted_id)\n",
    "cm_df = pd.DataFrame(\n",
    "    cf_matrix,\n",
    "    index=[\"Bopeng\", \"Jerawat\", \"Komedo\"],\n",
    "    columns=[\"Bopeng\", \"Jerawat\", \"Komedo\"]\n",
    ")\n",
    "figure = plt.figure(figsize=(5, 4))\n",
    "sns.heatmap(cm_df, annot=True, cmap='Blues')\n",
    "plt.tight_layout()\n",
    "plt.ylabel('True label')\n",
    "plt.xlabel('Predicted label')\n",
    "plt.show()"
   ]
  },
  {
   "cell_type": "code",
   "execution_count": null,
   "metadata": {},
   "outputs": [
    {
     "name": "stdout",
     "output_type": "stream",
     "text": [
      "              precision    recall  f1-score   support\n",
      "\n",
      "      bopeng       0.93      0.56      0.70        25\n",
      "     jerawat       0.65      0.96      0.77        25\n",
      "      komedo       0.78      0.72      0.75        25\n",
      "\n",
      "    accuracy                           0.75        75\n",
      "   macro avg       0.79      0.75      0.74        75\n",
      "weighted avg       0.79      0.75      0.74        75\n",
      "\n"
     ]
    }
   ],
   "source": [
    "faces = ['bopeng', 'jerawat', 'komedo']\n",
    "classification_metrics = classification_report(label_id, predicted_id, target_names=faces, zero_division=0)\n",
    "print(classification_metrics)"
   ]
  },
  {
   "cell_type": "code",
   "execution_count": null,
   "metadata": {},
   "outputs": [],
   "source": [
    "# print(predicted_id)\n",
    "# print(label_id)\n",
    "# label_batch"
   ]
  }
 ],
 "metadata": {
  "kernelspec": {
   "display_name": "base",
   "language": "python",
   "name": "python3"
  },
  "language_info": {
   "codemirror_mode": {
    "name": "ipython",
    "version": 3
   },
   "file_extension": ".py",
   "mimetype": "text/x-python",
   "name": "python",
   "nbconvert_exporter": "python",
   "pygments_lexer": "ipython3",
   "version": "3.9.13"
  }
 },
 "nbformat": 4,
 "nbformat_minor": 2
}
