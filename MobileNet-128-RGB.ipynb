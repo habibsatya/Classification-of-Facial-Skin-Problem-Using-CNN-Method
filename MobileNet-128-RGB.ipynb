{
 "cells": [
  {
   "cell_type": "code",
   "execution_count": 1,
   "metadata": {},
   "outputs": [],
   "source": [
    "from keras.layers import Dense, Flatten\n",
    "from keras.models import Model, load_model\n",
    "from keras.applications.mobilenet import MobileNet\n",
    "from keras.preprocessing import image\n",
    "from keras.preprocessing.image import ImageDataGenerator\n",
    "from keras.models import Sequential\n",
    "from sklearn.model_selection import train_test_split\n",
    "from sklearn.metrics import classification_report, confusion_matrix\n",
    "from glob import glob\n",
    "import tensorflow as tf\n",
    "import numpy as np\n",
    "import pandas as pd\n",
    "import seaborn as sns\n",
    "import matplotlib.pyplot as plt\n",
    "import os\n",
    "import warnings\n",
    "warnings.filterwarnings(\"ignore\")"
   ]
  },
  {
   "cell_type": "markdown",
   "metadata": {},
   "source": [
    "## Import Dataset"
   ]
  },
  {
   "cell_type": "code",
   "execution_count": 2,
   "metadata": {},
   "outputs": [
    {
     "name": "stdout",
     "output_type": "stream",
     "text": [
      "Total class: 3\n"
     ]
    },
    {
     "data": {
      "text/plain": [
       "['128_rgb_bopeng', '128_rgb_jerawat', '128_rgb_komedo']"
      ]
     },
     "execution_count": 2,
     "metadata": {},
     "output_type": "execute_result"
    }
   ],
   "source": [
    "base_dir = \"dataset/rgb/128/\"\n",
    "folders = glob(base_dir + \"/*\")\n",
    "\n",
    "print(\"Total class:\", len(folders))\n",
    "os.listdir(base_dir)"
   ]
  },
  {
   "cell_type": "code",
   "execution_count": 3,
   "metadata": {},
   "outputs": [],
   "source": [
    "file_name = []\n",
    "tag = []\n",
    "full_path = []\n",
    "\n",
    "for path, subdirs, files in os.walk(base_dir):\n",
    "    for name in files:\n",
    "        full_path.append(os.path.join(path, name))\n",
    "        tag.append(path.split(\"\\\\\")[-1])\n",
    "        file_name.append(name)"
   ]
  },
  {
   "cell_type": "code",
   "execution_count": 4,
   "metadata": {},
   "outputs": [
    {
     "data": {
      "text/plain": [
       "tag\n",
       "dataset/rgb/128/128_rgb_bopeng     750\n",
       "dataset/rgb/128/128_rgb_jerawat    750\n",
       "dataset/rgb/128/128_rgb_komedo     750\n",
       "dtype: int64"
      ]
     },
     "execution_count": 4,
     "metadata": {},
     "output_type": "execute_result"
    }
   ],
   "source": [
    "df = pd.DataFrame({\"path\": full_path, \"file_name\": file_name, \"tag\": tag})\n",
    "df.groupby([\"tag\"]).size()"
   ]
  },
  {
   "cell_type": "code",
   "execution_count": 5,
   "metadata": {},
   "outputs": [
    {
     "data": {
      "text/html": [
       "<div>\n",
       "<style scoped>\n",
       "    .dataframe tbody tr th:only-of-type {\n",
       "        vertical-align: middle;\n",
       "    }\n",
       "\n",
       "    .dataframe tbody tr th {\n",
       "        vertical-align: top;\n",
       "    }\n",
       "\n",
       "    .dataframe thead th {\n",
       "        text-align: right;\n",
       "    }\n",
       "</style>\n",
       "<table border=\"1\" class=\"dataframe\">\n",
       "  <thead>\n",
       "    <tr style=\"text-align: right;\">\n",
       "      <th></th>\n",
       "      <th>path</th>\n",
       "      <th>file_name</th>\n",
       "      <th>tag</th>\n",
       "    </tr>\n",
       "  </thead>\n",
       "  <tbody>\n",
       "    <tr>\n",
       "      <th>0</th>\n",
       "      <td>dataset/rgb/128/128_rgb_bopeng\\b_128_0.jpg</td>\n",
       "      <td>b_128_0.jpg</td>\n",
       "      <td>dataset/rgb/128/128_rgb_bopeng</td>\n",
       "    </tr>\n",
       "    <tr>\n",
       "      <th>1</th>\n",
       "      <td>dataset/rgb/128/128_rgb_bopeng\\b_128_1.jpg</td>\n",
       "      <td>b_128_1.jpg</td>\n",
       "      <td>dataset/rgb/128/128_rgb_bopeng</td>\n",
       "    </tr>\n",
       "    <tr>\n",
       "      <th>2</th>\n",
       "      <td>dataset/rgb/128/128_rgb_bopeng\\b_128_10.jpg</td>\n",
       "      <td>b_128_10.jpg</td>\n",
       "      <td>dataset/rgb/128/128_rgb_bopeng</td>\n",
       "    </tr>\n",
       "    <tr>\n",
       "      <th>3</th>\n",
       "      <td>dataset/rgb/128/128_rgb_bopeng\\b_128_100.jpg</td>\n",
       "      <td>b_128_100.jpg</td>\n",
       "      <td>dataset/rgb/128/128_rgb_bopeng</td>\n",
       "    </tr>\n",
       "    <tr>\n",
       "      <th>4</th>\n",
       "      <td>dataset/rgb/128/128_rgb_bopeng\\b_128_101.jpg</td>\n",
       "      <td>b_128_101.jpg</td>\n",
       "      <td>dataset/rgb/128/128_rgb_bopeng</td>\n",
       "    </tr>\n",
       "    <tr>\n",
       "      <th>...</th>\n",
       "      <td>...</td>\n",
       "      <td>...</td>\n",
       "      <td>...</td>\n",
       "    </tr>\n",
       "    <tr>\n",
       "      <th>2245</th>\n",
       "      <td>dataset/rgb/128/128_rgb_komedo\\k_128_95.jpg</td>\n",
       "      <td>k_128_95.jpg</td>\n",
       "      <td>dataset/rgb/128/128_rgb_komedo</td>\n",
       "    </tr>\n",
       "    <tr>\n",
       "      <th>2246</th>\n",
       "      <td>dataset/rgb/128/128_rgb_komedo\\k_128_96.jpg</td>\n",
       "      <td>k_128_96.jpg</td>\n",
       "      <td>dataset/rgb/128/128_rgb_komedo</td>\n",
       "    </tr>\n",
       "    <tr>\n",
       "      <th>2247</th>\n",
       "      <td>dataset/rgb/128/128_rgb_komedo\\k_128_97.jpg</td>\n",
       "      <td>k_128_97.jpg</td>\n",
       "      <td>dataset/rgb/128/128_rgb_komedo</td>\n",
       "    </tr>\n",
       "    <tr>\n",
       "      <th>2248</th>\n",
       "      <td>dataset/rgb/128/128_rgb_komedo\\k_128_98.jpg</td>\n",
       "      <td>k_128_98.jpg</td>\n",
       "      <td>dataset/rgb/128/128_rgb_komedo</td>\n",
       "    </tr>\n",
       "    <tr>\n",
       "      <th>2249</th>\n",
       "      <td>dataset/rgb/128/128_rgb_komedo\\k_128_99.jpg</td>\n",
       "      <td>k_128_99.jpg</td>\n",
       "      <td>dataset/rgb/128/128_rgb_komedo</td>\n",
       "    </tr>\n",
       "  </tbody>\n",
       "</table>\n",
       "<p>2250 rows × 3 columns</p>\n",
       "</div>"
      ],
      "text/plain": [
       "                                              path      file_name  \\\n",
       "0       dataset/rgb/128/128_rgb_bopeng\\b_128_0.jpg    b_128_0.jpg   \n",
       "1       dataset/rgb/128/128_rgb_bopeng\\b_128_1.jpg    b_128_1.jpg   \n",
       "2      dataset/rgb/128/128_rgb_bopeng\\b_128_10.jpg   b_128_10.jpg   \n",
       "3     dataset/rgb/128/128_rgb_bopeng\\b_128_100.jpg  b_128_100.jpg   \n",
       "4     dataset/rgb/128/128_rgb_bopeng\\b_128_101.jpg  b_128_101.jpg   \n",
       "...                                            ...            ...   \n",
       "2245   dataset/rgb/128/128_rgb_komedo\\k_128_95.jpg   k_128_95.jpg   \n",
       "2246   dataset/rgb/128/128_rgb_komedo\\k_128_96.jpg   k_128_96.jpg   \n",
       "2247   dataset/rgb/128/128_rgb_komedo\\k_128_97.jpg   k_128_97.jpg   \n",
       "2248   dataset/rgb/128/128_rgb_komedo\\k_128_98.jpg   k_128_98.jpg   \n",
       "2249   dataset/rgb/128/128_rgb_komedo\\k_128_99.jpg   k_128_99.jpg   \n",
       "\n",
       "                                 tag  \n",
       "0     dataset/rgb/128/128_rgb_bopeng  \n",
       "1     dataset/rgb/128/128_rgb_bopeng  \n",
       "2     dataset/rgb/128/128_rgb_bopeng  \n",
       "3     dataset/rgb/128/128_rgb_bopeng  \n",
       "4     dataset/rgb/128/128_rgb_bopeng  \n",
       "...                              ...  \n",
       "2245  dataset/rgb/128/128_rgb_komedo  \n",
       "2246  dataset/rgb/128/128_rgb_komedo  \n",
       "2247  dataset/rgb/128/128_rgb_komedo  \n",
       "2248  dataset/rgb/128/128_rgb_komedo  \n",
       "2249  dataset/rgb/128/128_rgb_komedo  \n",
       "\n",
       "[2250 rows x 3 columns]"
      ]
     },
     "execution_count": 5,
     "metadata": {},
     "output_type": "execute_result"
    }
   ],
   "source": [
    "df"
   ]
  },
  {
   "cell_type": "code",
   "execution_count": 6,
   "metadata": {},
   "outputs": [],
   "source": [
    "X = df[\"path\"]\n",
    "y = df[\"tag\"]\n",
    "\n",
    "X_train, X_val, y_train, y_val = train_test_split(X, y, test_size=0.2, random_state=0, stratify=y)"
   ]
  },
  {
   "cell_type": "code",
   "execution_count": 7,
   "metadata": {},
   "outputs": [],
   "source": [
    "data_train = pd.DataFrame({\"path\": X_train, \"tag\": y_train, \"set\": \"train\"})\n",
    "data_val = pd.DataFrame({\"path\": X_val, \"tag\": y_val, \"set\": \"valid\"} )"
   ]
  },
  {
   "cell_type": "code",
   "execution_count": 8,
   "metadata": {},
   "outputs": [
    {
     "name": "stdout",
     "output_type": "stream",
     "text": [
      "train_size 1800\n",
      "valid_size 450\n"
     ]
    }
   ],
   "source": [
    "print(\"train_size\", len(data_train))\n",
    "print(\"valid_size\", len(data_val))"
   ]
  },
  {
   "cell_type": "code",
   "execution_count": 9,
   "metadata": {},
   "outputs": [
    {
     "name": "stdout",
     "output_type": "stream",
     "text": [
      "set    tag                            \n",
      "train  dataset/rgb/128/128_rgb_bopeng     600\n",
      "       dataset/rgb/128/128_rgb_jerawat    600\n",
      "       dataset/rgb/128/128_rgb_komedo     600\n",
      "valid  dataset/rgb/128/128_rgb_bopeng     150\n",
      "       dataset/rgb/128/128_rgb_jerawat    150\n",
      "       dataset/rgb/128/128_rgb_komedo     150\n",
      "dtype: int64 \n",
      "\n"
     ]
    },
    {
     "data": {
      "text/html": [
       "<div>\n",
       "<style scoped>\n",
       "    .dataframe tbody tr th:only-of-type {\n",
       "        vertical-align: middle;\n",
       "    }\n",
       "\n",
       "    .dataframe tbody tr th {\n",
       "        vertical-align: top;\n",
       "    }\n",
       "\n",
       "    .dataframe thead th {\n",
       "        text-align: right;\n",
       "    }\n",
       "</style>\n",
       "<table border=\"1\" class=\"dataframe\">\n",
       "  <thead>\n",
       "    <tr style=\"text-align: right;\">\n",
       "      <th></th>\n",
       "      <th>path</th>\n",
       "      <th>tag</th>\n",
       "      <th>set</th>\n",
       "    </tr>\n",
       "  </thead>\n",
       "  <tbody>\n",
       "    <tr>\n",
       "      <th>0</th>\n",
       "      <td>dataset/rgb/128/128_rgb_jerawat\\j_128_6.jpg</td>\n",
       "      <td>dataset/rgb/128/128_rgb_jerawat</td>\n",
       "      <td>train</td>\n",
       "    </tr>\n",
       "    <tr>\n",
       "      <th>1</th>\n",
       "      <td>dataset/rgb/128/128_rgb_komedo\\k_128_535.jpg</td>\n",
       "      <td>dataset/rgb/128/128_rgb_komedo</td>\n",
       "      <td>train</td>\n",
       "    </tr>\n",
       "    <tr>\n",
       "      <th>2</th>\n",
       "      <td>dataset/rgb/128/128_rgb_komedo\\k_128_347.jpg</td>\n",
       "      <td>dataset/rgb/128/128_rgb_komedo</td>\n",
       "      <td>train</td>\n",
       "    </tr>\n",
       "    <tr>\n",
       "      <th>3</th>\n",
       "      <td>dataset/rgb/128/128_rgb_jerawat\\j_128_723.jpg</td>\n",
       "      <td>dataset/rgb/128/128_rgb_jerawat</td>\n",
       "      <td>train</td>\n",
       "    </tr>\n",
       "    <tr>\n",
       "      <th>4</th>\n",
       "      <td>dataset/rgb/128/128_rgb_bopeng\\b_128_76.jpg</td>\n",
       "      <td>dataset/rgb/128/128_rgb_bopeng</td>\n",
       "      <td>train</td>\n",
       "    </tr>\n",
       "    <tr>\n",
       "      <th>...</th>\n",
       "      <td>...</td>\n",
       "      <td>...</td>\n",
       "      <td>...</td>\n",
       "    </tr>\n",
       "    <tr>\n",
       "      <th>2245</th>\n",
       "      <td>dataset/rgb/128/128_rgb_komedo\\k_128_349.jpg</td>\n",
       "      <td>dataset/rgb/128/128_rgb_komedo</td>\n",
       "      <td>valid</td>\n",
       "    </tr>\n",
       "    <tr>\n",
       "      <th>2246</th>\n",
       "      <td>dataset/rgb/128/128_rgb_jerawat\\j_128_444.jpg</td>\n",
       "      <td>dataset/rgb/128/128_rgb_jerawat</td>\n",
       "      <td>valid</td>\n",
       "    </tr>\n",
       "    <tr>\n",
       "      <th>2247</th>\n",
       "      <td>dataset/rgb/128/128_rgb_komedo\\k_128_546.jpg</td>\n",
       "      <td>dataset/rgb/128/128_rgb_komedo</td>\n",
       "      <td>valid</td>\n",
       "    </tr>\n",
       "    <tr>\n",
       "      <th>2248</th>\n",
       "      <td>dataset/rgb/128/128_rgb_bopeng\\b_128_434.jpg</td>\n",
       "      <td>dataset/rgb/128/128_rgb_bopeng</td>\n",
       "      <td>valid</td>\n",
       "    </tr>\n",
       "    <tr>\n",
       "      <th>2249</th>\n",
       "      <td>dataset/rgb/128/128_rgb_komedo\\k_128_405.jpg</td>\n",
       "      <td>dataset/rgb/128/128_rgb_komedo</td>\n",
       "      <td>valid</td>\n",
       "    </tr>\n",
       "  </tbody>\n",
       "</table>\n",
       "<p>2250 rows × 3 columns</p>\n",
       "</div>"
      ],
      "text/plain": [
       "                                               path  \\\n",
       "0       dataset/rgb/128/128_rgb_jerawat\\j_128_6.jpg   \n",
       "1      dataset/rgb/128/128_rgb_komedo\\k_128_535.jpg   \n",
       "2      dataset/rgb/128/128_rgb_komedo\\k_128_347.jpg   \n",
       "3     dataset/rgb/128/128_rgb_jerawat\\j_128_723.jpg   \n",
       "4       dataset/rgb/128/128_rgb_bopeng\\b_128_76.jpg   \n",
       "...                                             ...   \n",
       "2245   dataset/rgb/128/128_rgb_komedo\\k_128_349.jpg   \n",
       "2246  dataset/rgb/128/128_rgb_jerawat\\j_128_444.jpg   \n",
       "2247   dataset/rgb/128/128_rgb_komedo\\k_128_546.jpg   \n",
       "2248   dataset/rgb/128/128_rgb_bopeng\\b_128_434.jpg   \n",
       "2249   dataset/rgb/128/128_rgb_komedo\\k_128_405.jpg   \n",
       "\n",
       "                                  tag    set  \n",
       "0     dataset/rgb/128/128_rgb_jerawat  train  \n",
       "1      dataset/rgb/128/128_rgb_komedo  train  \n",
       "2      dataset/rgb/128/128_rgb_komedo  train  \n",
       "3     dataset/rgb/128/128_rgb_jerawat  train  \n",
       "4      dataset/rgb/128/128_rgb_bopeng  train  \n",
       "...                               ...    ...  \n",
       "2245   dataset/rgb/128/128_rgb_komedo  valid  \n",
       "2246  dataset/rgb/128/128_rgb_jerawat  valid  \n",
       "2247   dataset/rgb/128/128_rgb_komedo  valid  \n",
       "2248   dataset/rgb/128/128_rgb_bopeng  valid  \n",
       "2249   dataset/rgb/128/128_rgb_komedo  valid  \n",
       "\n",
       "[2250 rows x 3 columns]"
      ]
     },
     "execution_count": 9,
     "metadata": {},
     "output_type": "execute_result"
    }
   ],
   "source": [
    "df_all = data_train.append([data_val]).reset_index(drop=1)\n",
    "print(df_all.groupby([\"set\", \"tag\"]).size(), \"\\n\")\n",
    "\n",
    "# Cek sample data\n",
    "df_all"
   ]
  },
  {
   "cell_type": "code",
   "execution_count": 10,
   "metadata": {},
   "outputs": [],
   "source": [
    "train_datagen = ImageDataGenerator(rescale=1.0/255)\n",
    "valid_datagen = ImageDataGenerator(rescale=1.0/255)"
   ]
  },
  {
   "cell_type": "code",
   "execution_count": 11,
   "metadata": {},
   "outputs": [
    {
     "name": "stdout",
     "output_type": "stream",
     "text": [
      "Found 1800 validated image filenames belonging to 3 classes.\n",
      "Found 450 validated image filenames belonging to 3 classes.\n"
     ]
    }
   ],
   "source": [
    "train_generator = train_datagen.flow_from_dataframe(\n",
    "        data_train,\n",
    "        x_col=\"path\",\n",
    "        y_col=\"tag\",\n",
    "        target_size=(128, 128),\n",
    "        class_mode=\"categorical\"\n",
    ")\n",
    "\n",
    "valid_generator = valid_datagen.flow_from_dataframe(\n",
    "        data_val,\n",
    "        x_col=\"path\",\n",
    "        y_col=\"tag\",\n",
    "        target_size=(128, 128),\n",
    "        class_mode=\"categorical\"\n",
    ")"
   ]
  },
  {
   "cell_type": "markdown",
   "metadata": {},
   "source": [
    "## Build Model"
   ]
  },
  {
   "cell_type": "code",
   "execution_count": 12,
   "metadata": {},
   "outputs": [],
   "source": [
    "IMAGE_SIZE = [128, 128]\n",
    "mobile_net = MobileNet(input_shape=IMAGE_SIZE + [3], weights=\"imagenet\", include_top=False)"
   ]
  },
  {
   "cell_type": "code",
   "execution_count": 13,
   "metadata": {},
   "outputs": [],
   "source": [
    "for layers in mobile_net.layers:\n",
    "    layers.trainable = False"
   ]
  },
  {
   "cell_type": "code",
   "execution_count": 14,
   "metadata": {},
   "outputs": [],
   "source": [
    "x = Flatten()(mobile_net.output)\n",
    "prediction = Dense(len(folders), activation=\"softmax\")(x)"
   ]
  },
  {
   "cell_type": "code",
   "execution_count": 15,
   "metadata": {},
   "outputs": [],
   "source": [
    "model = Model(inputs=mobile_net.input, outputs=prediction)"
   ]
  },
  {
   "cell_type": "code",
   "execution_count": 16,
   "metadata": {},
   "outputs": [
    {
     "name": "stdout",
     "output_type": "stream",
     "text": [
      "Model: \"model\"\n",
      "_________________________________________________________________\n",
      " Layer (type)                Output Shape              Param #   \n",
      "=================================================================\n",
      " input_1 (InputLayer)        [(None, 128, 128, 3)]     0         \n",
      "                                                                 \n",
      " conv1 (Conv2D)              (None, 64, 64, 32)        864       \n",
      "                                                                 \n",
      " conv1_bn (BatchNormalizatio  (None, 64, 64, 32)       128       \n",
      " n)                                                              \n",
      "                                                                 \n",
      " conv1_relu (ReLU)           (None, 64, 64, 32)        0         \n",
      "                                                                 \n",
      " conv_dw_1 (DepthwiseConv2D)  (None, 64, 64, 32)       288       \n",
      "                                                                 \n",
      " conv_dw_1_bn (BatchNormaliz  (None, 64, 64, 32)       128       \n",
      " ation)                                                          \n",
      "                                                                 \n",
      " conv_dw_1_relu (ReLU)       (None, 64, 64, 32)        0         \n",
      "                                                                 \n",
      " conv_pw_1 (Conv2D)          (None, 64, 64, 64)        2048      \n",
      "                                                                 \n",
      " conv_pw_1_bn (BatchNormaliz  (None, 64, 64, 64)       256       \n",
      " ation)                                                          \n",
      "                                                                 \n",
      " conv_pw_1_relu (ReLU)       (None, 64, 64, 64)        0         \n",
      "                                                                 \n",
      " conv_pad_2 (ZeroPadding2D)  (None, 65, 65, 64)        0         \n",
      "                                                                 \n",
      " conv_dw_2 (DepthwiseConv2D)  (None, 32, 32, 64)       576       \n",
      "                                                                 \n",
      " conv_dw_2_bn (BatchNormaliz  (None, 32, 32, 64)       256       \n",
      " ation)                                                          \n",
      "                                                                 \n",
      " conv_dw_2_relu (ReLU)       (None, 32, 32, 64)        0         \n",
      "                                                                 \n",
      " conv_pw_2 (Conv2D)          (None, 32, 32, 128)       8192      \n",
      "                                                                 \n",
      " conv_pw_2_bn (BatchNormaliz  (None, 32, 32, 128)      512       \n",
      " ation)                                                          \n",
      "                                                                 \n",
      " conv_pw_2_relu (ReLU)       (None, 32, 32, 128)       0         \n",
      "                                                                 \n",
      " conv_dw_3 (DepthwiseConv2D)  (None, 32, 32, 128)      1152      \n",
      "                                                                 \n",
      " conv_dw_3_bn (BatchNormaliz  (None, 32, 32, 128)      512       \n",
      " ation)                                                          \n",
      "                                                                 \n",
      " conv_dw_3_relu (ReLU)       (None, 32, 32, 128)       0         \n",
      "                                                                 \n",
      " conv_pw_3 (Conv2D)          (None, 32, 32, 128)       16384     \n",
      "                                                                 \n",
      " conv_pw_3_bn (BatchNormaliz  (None, 32, 32, 128)      512       \n",
      " ation)                                                          \n",
      "                                                                 \n",
      " conv_pw_3_relu (ReLU)       (None, 32, 32, 128)       0         \n",
      "                                                                 \n",
      " conv_pad_4 (ZeroPadding2D)  (None, 33, 33, 128)       0         \n",
      "                                                                 \n",
      " conv_dw_4 (DepthwiseConv2D)  (None, 16, 16, 128)      1152      \n",
      "                                                                 \n",
      " conv_dw_4_bn (BatchNormaliz  (None, 16, 16, 128)      512       \n",
      " ation)                                                          \n",
      "                                                                 \n",
      " conv_dw_4_relu (ReLU)       (None, 16, 16, 128)       0         \n",
      "                                                                 \n",
      " conv_pw_4 (Conv2D)          (None, 16, 16, 256)       32768     \n",
      "                                                                 \n",
      " conv_pw_4_bn (BatchNormaliz  (None, 16, 16, 256)      1024      \n",
      " ation)                                                          \n",
      "                                                                 \n",
      " conv_pw_4_relu (ReLU)       (None, 16, 16, 256)       0         \n",
      "                                                                 \n",
      " conv_dw_5 (DepthwiseConv2D)  (None, 16, 16, 256)      2304      \n",
      "                                                                 \n",
      " conv_dw_5_bn (BatchNormaliz  (None, 16, 16, 256)      1024      \n",
      " ation)                                                          \n",
      "                                                                 \n",
      " conv_dw_5_relu (ReLU)       (None, 16, 16, 256)       0         \n",
      "                                                                 \n",
      " conv_pw_5 (Conv2D)          (None, 16, 16, 256)       65536     \n",
      "                                                                 \n",
      " conv_pw_5_bn (BatchNormaliz  (None, 16, 16, 256)      1024      \n",
      " ation)                                                          \n",
      "                                                                 \n",
      " conv_pw_5_relu (ReLU)       (None, 16, 16, 256)       0         \n",
      "                                                                 \n",
      " conv_pad_6 (ZeroPadding2D)  (None, 17, 17, 256)       0         \n",
      "                                                                 \n",
      " conv_dw_6 (DepthwiseConv2D)  (None, 8, 8, 256)        2304      \n",
      "                                                                 \n",
      " conv_dw_6_bn (BatchNormaliz  (None, 8, 8, 256)        1024      \n",
      " ation)                                                          \n",
      "                                                                 \n",
      " conv_dw_6_relu (ReLU)       (None, 8, 8, 256)         0         \n",
      "                                                                 \n",
      " conv_pw_6 (Conv2D)          (None, 8, 8, 512)         131072    \n",
      "                                                                 \n",
      " conv_pw_6_bn (BatchNormaliz  (None, 8, 8, 512)        2048      \n",
      " ation)                                                          \n",
      "                                                                 \n",
      " conv_pw_6_relu (ReLU)       (None, 8, 8, 512)         0         \n",
      "                                                                 \n",
      " conv_dw_7 (DepthwiseConv2D)  (None, 8, 8, 512)        4608      \n",
      "                                                                 \n",
      " conv_dw_7_bn (BatchNormaliz  (None, 8, 8, 512)        2048      \n",
      " ation)                                                          \n",
      "                                                                 \n",
      " conv_dw_7_relu (ReLU)       (None, 8, 8, 512)         0         \n",
      "                                                                 \n",
      " conv_pw_7 (Conv2D)          (None, 8, 8, 512)         262144    \n",
      "                                                                 \n",
      " conv_pw_7_bn (BatchNormaliz  (None, 8, 8, 512)        2048      \n",
      " ation)                                                          \n",
      "                                                                 \n",
      " conv_pw_7_relu (ReLU)       (None, 8, 8, 512)         0         \n",
      "                                                                 \n",
      " conv_dw_8 (DepthwiseConv2D)  (None, 8, 8, 512)        4608      \n",
      "                                                                 \n",
      " conv_dw_8_bn (BatchNormaliz  (None, 8, 8, 512)        2048      \n",
      " ation)                                                          \n",
      "                                                                 \n",
      " conv_dw_8_relu (ReLU)       (None, 8, 8, 512)         0         \n",
      "                                                                 \n",
      " conv_pw_8 (Conv2D)          (None, 8, 8, 512)         262144    \n",
      "                                                                 \n",
      " conv_pw_8_bn (BatchNormaliz  (None, 8, 8, 512)        2048      \n",
      " ation)                                                          \n",
      "                                                                 \n",
      " conv_pw_8_relu (ReLU)       (None, 8, 8, 512)         0         \n",
      "                                                                 \n",
      " conv_dw_9 (DepthwiseConv2D)  (None, 8, 8, 512)        4608      \n",
      "                                                                 \n",
      " conv_dw_9_bn (BatchNormaliz  (None, 8, 8, 512)        2048      \n",
      " ation)                                                          \n",
      "                                                                 \n",
      " conv_dw_9_relu (ReLU)       (None, 8, 8, 512)         0         \n",
      "                                                                 \n",
      " conv_pw_9 (Conv2D)          (None, 8, 8, 512)         262144    \n",
      "                                                                 \n",
      " conv_pw_9_bn (BatchNormaliz  (None, 8, 8, 512)        2048      \n",
      " ation)                                                          \n",
      "                                                                 \n",
      " conv_pw_9_relu (ReLU)       (None, 8, 8, 512)         0         \n",
      "                                                                 \n",
      " conv_dw_10 (DepthwiseConv2D  (None, 8, 8, 512)        4608      \n",
      " )                                                               \n",
      "                                                                 \n",
      " conv_dw_10_bn (BatchNormali  (None, 8, 8, 512)        2048      \n",
      " zation)                                                         \n",
      "                                                                 \n",
      " conv_dw_10_relu (ReLU)      (None, 8, 8, 512)         0         \n",
      "                                                                 \n",
      " conv_pw_10 (Conv2D)         (None, 8, 8, 512)         262144    \n",
      "                                                                 \n",
      " conv_pw_10_bn (BatchNormali  (None, 8, 8, 512)        2048      \n",
      " zation)                                                         \n",
      "                                                                 \n",
      " conv_pw_10_relu (ReLU)      (None, 8, 8, 512)         0         \n",
      "                                                                 \n",
      " conv_dw_11 (DepthwiseConv2D  (None, 8, 8, 512)        4608      \n",
      " )                                                               \n",
      "                                                                 \n",
      " conv_dw_11_bn (BatchNormali  (None, 8, 8, 512)        2048      \n",
      " zation)                                                         \n",
      "                                                                 \n",
      " conv_dw_11_relu (ReLU)      (None, 8, 8, 512)         0         \n",
      "                                                                 \n",
      " conv_pw_11 (Conv2D)         (None, 8, 8, 512)         262144    \n",
      "                                                                 \n",
      " conv_pw_11_bn (BatchNormali  (None, 8, 8, 512)        2048      \n",
      " zation)                                                         \n",
      "                                                                 \n",
      " conv_pw_11_relu (ReLU)      (None, 8, 8, 512)         0         \n",
      "                                                                 \n",
      " conv_pad_12 (ZeroPadding2D)  (None, 9, 9, 512)        0         \n",
      "                                                                 \n",
      " conv_dw_12 (DepthwiseConv2D  (None, 4, 4, 512)        4608      \n",
      " )                                                               \n",
      "                                                                 \n",
      " conv_dw_12_bn (BatchNormali  (None, 4, 4, 512)        2048      \n",
      " zation)                                                         \n",
      "                                                                 \n",
      " conv_dw_12_relu (ReLU)      (None, 4, 4, 512)         0         \n",
      "                                                                 \n",
      " conv_pw_12 (Conv2D)         (None, 4, 4, 1024)        524288    \n",
      "                                                                 \n",
      " conv_pw_12_bn (BatchNormali  (None, 4, 4, 1024)       4096      \n",
      " zation)                                                         \n",
      "                                                                 \n",
      " conv_pw_12_relu (ReLU)      (None, 4, 4, 1024)        0         \n",
      "                                                                 \n",
      " conv_dw_13 (DepthwiseConv2D  (None, 4, 4, 1024)       9216      \n",
      " )                                                               \n",
      "                                                                 \n",
      " conv_dw_13_bn (BatchNormali  (None, 4, 4, 1024)       4096      \n",
      " zation)                                                         \n",
      "                                                                 \n",
      " conv_dw_13_relu (ReLU)      (None, 4, 4, 1024)        0         \n",
      "                                                                 \n",
      " conv_pw_13 (Conv2D)         (None, 4, 4, 1024)        1048576   \n",
      "                                                                 \n",
      " conv_pw_13_bn (BatchNormali  (None, 4, 4, 1024)       4096      \n",
      " zation)                                                         \n",
      "                                                                 \n",
      " conv_pw_13_relu (ReLU)      (None, 4, 4, 1024)        0         \n",
      "                                                                 \n",
      " flatten (Flatten)           (None, 16384)             0         \n",
      "                                                                 \n",
      " dense (Dense)               (None, 3)                 49155     \n",
      "                                                                 \n",
      "=================================================================\n",
      "Total params: 3,278,019\n",
      "Trainable params: 49,155\n",
      "Non-trainable params: 3,228,864\n",
      "_________________________________________________________________\n"
     ]
    }
   ],
   "source": [
    "model.summary()"
   ]
  },
  {
   "cell_type": "code",
   "execution_count": 17,
   "metadata": {},
   "outputs": [],
   "source": [
    "model.compile(\n",
    "    optimizer=\"adam\",\n",
    "    loss=\"categorical_crossentropy\",\n",
    "    metrics=[\"accuracy\"]\n",
    ")"
   ]
  },
  {
   "cell_type": "code",
   "execution_count": 18,
   "metadata": {},
   "outputs": [],
   "source": [
    "my_callbacks = tf.keras.callbacks.EarlyStopping(\n",
    "    monitor=\"accuracy\", \n",
    "    min_delta=0.001, \n",
    "    patience=5,\n",
    "    verbose=0,\n",
    "    mode=\"max\",\n",
    "    restore_best_weights=True\n",
    ")"
   ]
  },
  {
   "cell_type": "code",
   "execution_count": 19,
   "metadata": {},
   "outputs": [
    {
     "name": "stdout",
     "output_type": "stream",
     "text": [
      "Epoch 1/50\n",
      "57/57 [==============================] - 19s 287ms/step - loss: 0.2100 - accuracy: 0.9244 - val_loss: 0.0520 - val_accuracy: 0.9778\n",
      "Epoch 2/50\n",
      "57/57 [==============================] - 15s 268ms/step - loss: 0.0147 - accuracy: 0.9956 - val_loss: 0.0363 - val_accuracy: 0.9911\n",
      "Epoch 3/50\n",
      "57/57 [==============================] - 16s 273ms/step - loss: 0.0025 - accuracy: 1.0000 - val_loss: 0.0401 - val_accuracy: 0.9867\n",
      "Epoch 4/50\n",
      "57/57 [==============================] - 15s 269ms/step - loss: 0.0014 - accuracy: 1.0000 - val_loss: 0.0382 - val_accuracy: 0.9867\n",
      "Epoch 5/50\n",
      "57/57 [==============================] - 15s 270ms/step - loss: 0.0010 - accuracy: 1.0000 - val_loss: 0.0363 - val_accuracy: 0.9889\n",
      "Epoch 6/50\n",
      "57/57 [==============================] - 15s 270ms/step - loss: 8.1367e-04 - accuracy: 1.0000 - val_loss: 0.0359 - val_accuracy: 0.9889\n",
      "Epoch 7/50\n",
      "57/57 [==============================] - 15s 266ms/step - loss: 6.9481e-04 - accuracy: 1.0000 - val_loss: 0.0368 - val_accuracy: 0.9889\n",
      "Epoch 8/50\n",
      "57/57 [==============================] - 15s 267ms/step - loss: 6.0116e-04 - accuracy: 1.0000 - val_loss: 0.0362 - val_accuracy: 0.9889\n"
     ]
    }
   ],
   "source": [
    "history = model.fit(\n",
    "    train_generator,\n",
    "    steps_per_epoch=len(train_generator),\n",
    "    epochs=50,\n",
    "    validation_data=valid_generator,\n",
    "    validation_steps=len(valid_generator),\n",
    "    callbacks=my_callbacks\n",
    ")"
   ]
  },
  {
   "cell_type": "markdown",
   "metadata": {},
   "source": [
    "## Model Accuracy"
   ]
  },
  {
   "cell_type": "code",
   "execution_count": 20,
   "metadata": {},
   "outputs": [
    {
     "name": "stdout",
     "output_type": "stream",
     "text": [
      "15/15 [==============================] - 3s 204ms/step - loss: 0.0401 - accuracy: 0.9867\n",
      "\n",
      "accuracy: 0.9866666793823242   loss:  0.04014675319194794\n"
     ]
    }
   ],
   "source": [
    "test_loss, test_acc = model.evaluate(valid_generator)\n",
    "print(\"\\naccuracy:\", test_acc, \"  loss: \", test_loss)\n"
   ]
  },
  {
   "cell_type": "code",
   "execution_count": 21,
   "metadata": {},
   "outputs": [
    {
     "data": {
      "image/png": "[encoded data removed]",
      "text/plain": [
       "<Figure size 640x480 with 1 Axes>"
      ]
     },
     "metadata": {},
     "output_type": "display_data"
    }
   ],
   "source": [
    "plt.plot(history.history[\"loss\"])\n",
    "plt.plot(history.history[\"val_loss\"])\n",
    "plt.title(\"Model loss\")\n",
    "plt.ylabel(\"Loss\")\n",
    "plt.xlabel(\"Epoch\")\n",
    "plt.legend([\"Train\", \"Val\"], loc=\"upper right\")\n",
    "plt.show()"
   ]
  },
  {
   "cell_type": "code",
   "execution_count": 22,
   "metadata": {},
   "outputs": [
    {
     "data": {
      "image/png": "[encoded data removed]",
      "text/plain": [
       "<Figure size 640x480 with 1 Axes>"
      ]
     },
     "metadata": {},
     "output_type": "display_data"
    }
   ],
   "source": [
    "plt.plot(history.history[\"accuracy\"])\n",
    "plt.plot(history.history[\"val_accuracy\"])\n",
    "plt.title(\"Model accuracy\")\n",
    "plt.ylabel(\"Accuracy\")\n",
    "plt.xlabel(\"Epoch\")\n",
    "plt.legend([\"Train\", \"Val\"], loc=\"lower right\")\n",
    "plt.show()"
   ]
  },
  {
   "cell_type": "markdown",
   "metadata": {},
   "source": [
    "## Save Model"
   ]
  },
  {
   "cell_type": "code",
   "execution_count": 23,
   "metadata": {},
   "outputs": [
    {
     "name": "stdout",
     "output_type": "stream",
     "text": [
      "Saving Model At model\\model_128\\mobilenet-128-rgb.h5...\n"
     ]
    }
   ],
   "source": [
    "MODEL_BASE_PATH = \"model\"\n",
    "PROJECT_NAME = \"model_128\"\n",
    "SAVE_MODEL_NAME = \"mobilenet-128-rgb.h5\"\n",
    "save_model_path = os.path.join(MODEL_BASE_PATH, PROJECT_NAME, SAVE_MODEL_NAME)\n",
    "\n",
    "if os.path.exists(os.path.join(MODEL_BASE_PATH, PROJECT_NAME)) == False:\n",
    "    os.makedirs(os.path.join(MODEL_BASE_PATH, PROJECT_NAME))\n",
    "\n",
    "print(\"Saving Model At {}...\".format(save_model_path))\n",
    "model.save(save_model_path)"
   ]
  },
  {
   "cell_type": "markdown",
   "metadata": {},
   "source": [
    "## Model Evaluate"
   ]
  },
  {
   "cell_type": "code",
   "execution_count": 8,
   "metadata": {},
   "outputs": [],
   "source": [
    "model_load = load_model('model/model_128/mobilenet-128-rgb.h5')"
   ]
  },
  {
   "cell_type": "code",
   "execution_count": 9,
   "metadata": {},
   "outputs": [
    {
     "name": "stdout",
     "output_type": "stream",
     "text": [
      "Found 60 images belonging to 3 classes.\n"
     ]
    }
   ],
   "source": [
    "image_generator = ImageDataGenerator(rescale=1/255)\n",
    "test_data = 'testing'\n",
    "test_image_data = image_generator.flow_from_directory(test_data, target_size=(128, 128), batch_size=60)"
   ]
  },
  {
   "cell_type": "code",
   "execution_count": 10,
   "metadata": {},
   "outputs": [
    {
     "name": "stdout",
     "output_type": "stream",
     "text": [
      "Image batch shape:  (60, 128, 128, 3)\n",
      "Label batch shape:  (60, 3)\n"
     ]
    }
   ],
   "source": [
    "for image_batch, label_batch in test_image_data:\n",
    "    print(\"Image batch shape: \", image_batch.shape)\n",
    "    print(\"Label batch shape: \", label_batch.shape)\n",
    "    break\n"
   ]
  },
  {
   "cell_type": "code",
   "execution_count": 11,
   "metadata": {},
   "outputs": [
    {
     "name": "stdout",
     "output_type": "stream",
     "text": [
      "2/2 [==============================] - 1s 136ms/step\n"
     ]
    }
   ],
   "source": [
    "predicted_batch = model_load.predict(image_batch)\n",
    "predicted_id = np.argmax(predicted_batch, axis=-1)\n",
    "label_id = np.argmax(label_batch, axis=-1)"
   ]
  },
  {
   "cell_type": "code",
   "execution_count": 12,
   "metadata": {},
   "outputs": [
    {
     "data": {
      "image/png": "[encoded data removed]",
      "text/plain": [
       "<Figure size 500x400 with 2 Axes>"
      ]
     },
     "metadata": {},
     "output_type": "display_data"
    }
   ],
   "source": [
    "cf_matrix = confusion_matrix(label_id, predicted_id)\n",
    "cm_df = pd.DataFrame(\n",
    "    cf_matrix,\n",
    "    index=[\"Bopeng\", \"Jerawat\", \"Komedo\"],\n",
    "    columns=[\"Bopeng\", \"Jerawat\", \"Komedo\"]\n",
    ")\n",
    "figure = plt.figure(figsize=(5, 4))\n",
    "sns.heatmap(cm_df, annot=True, cmap='Blues')\n",
    "plt.tight_layout()\n",
    "plt.ylabel('True label')\n",
    "plt.xlabel('Predicted label')\n",
    "plt.show()\n"
   ]
  },
  {
   "cell_type": "code",
   "execution_count": 13,
   "metadata": {},
   "outputs": [
    {
     "name": "stdout",
     "output_type": "stream",
     "text": [
      "              precision    recall  f1-score   support\n",
      "\n",
      "      bopeng       0.82      0.45      0.58        20\n",
      "     jerawat       0.69      0.90      0.78        20\n",
      "      komedo       0.74      0.85      0.79        20\n",
      "\n",
      "    accuracy                           0.73        60\n",
      "   macro avg       0.75      0.73      0.72        60\n",
      "weighted avg       0.75      0.73      0.72        60\n",
      "\n"
     ]
    }
   ],
   "source": [
    "faces = ['bopeng', 'jerawat', 'komedo']\n",
    "classification_metrics = classification_report(label_id, predicted_id, target_names=faces, zero_division=0)\n",
    "print(classification_metrics)"
   ]
  },
  {
   "cell_type": "code",
   "execution_count": null,
   "metadata": {},
   "outputs": [],
   "source": []
  }
 ],
 "metadata": {
  "kernelspec": {
   "display_name": "base",
   "language": "python",
   "name": "python3"
  },
  "language_info": {
   "codemirror_mode": {
    "name": "ipython",
    "version": 3
   },
   "file_extension": ".py",
   "mimetype": "text/x-python",
   "name": "python",
   "nbconvert_exporter": "python",
   "pygments_lexer": "ipython3",
   "version": "3.9.13"
  }
 },
 "nbformat": 4,
 "nbformat_minor": 2
}
